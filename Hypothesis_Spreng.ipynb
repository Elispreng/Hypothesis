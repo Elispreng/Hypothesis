{
 "cells": [
  {
   "cell_type": "markdown",
   "id": "e8ded387",
   "metadata": {},
   "source": [
    "# Create Project"
   ]
  },
  {
   "cell_type": "code",
   "execution_count": 79,
   "id": "8d36ef25",
   "metadata": {},
   "outputs": [],
   "source": [
    "# import libraries\n",
    "import pandas as pd\n",
    "import seaborn as sns\n",
    "import numpy as np\n",
    "import matplotlib.pyplot as plt\n",
    "\n",
    "# statistical tools\n",
    "import scipy.stats as stats"
   ]
  },
  {
   "cell_type": "code",
   "execution_count": 80,
   "id": "63f721b3",
   "metadata": {},
   "outputs": [],
   "source": [
    "# create the dataframe\n",
    "filename = 'insurance - insurance.csv'\n",
    "hypo_df=pd.read_csv(filename)"
   ]
  },
  {
   "cell_type": "code",
   "execution_count": 82,
   "id": "81fd72ef",
   "metadata": {
    "scrolled": true
   },
   "outputs": [
    {
     "data": {
      "text/html": [
       "<div>\n",
       "<style scoped>\n",
       "    .dataframe tbody tr th:only-of-type {\n",
       "        vertical-align: middle;\n",
       "    }\n",
       "\n",
       "    .dataframe tbody tr th {\n",
       "        vertical-align: top;\n",
       "    }\n",
       "\n",
       "    .dataframe thead th {\n",
       "        text-align: right;\n",
       "    }\n",
       "</style>\n",
       "<table border=\"1\" class=\"dataframe\">\n",
       "  <thead>\n",
       "    <tr style=\"text-align: right;\">\n",
       "      <th></th>\n",
       "      <th>age</th>\n",
       "      <th>sex</th>\n",
       "      <th>bmi</th>\n",
       "      <th>children</th>\n",
       "      <th>smoker</th>\n",
       "      <th>region</th>\n",
       "      <th>charges</th>\n",
       "    </tr>\n",
       "  </thead>\n",
       "  <tbody>\n",
       "    <tr>\n",
       "      <th>0</th>\n",
       "      <td>19</td>\n",
       "      <td>female</td>\n",
       "      <td>27.90</td>\n",
       "      <td>0</td>\n",
       "      <td>yes</td>\n",
       "      <td>southwest</td>\n",
       "      <td>16884.9240</td>\n",
       "    </tr>\n",
       "    <tr>\n",
       "      <th>1</th>\n",
       "      <td>18</td>\n",
       "      <td>male</td>\n",
       "      <td>33.77</td>\n",
       "      <td>1</td>\n",
       "      <td>no</td>\n",
       "      <td>southeast</td>\n",
       "      <td>1725.5523</td>\n",
       "    </tr>\n",
       "  </tbody>\n",
       "</table>\n",
       "</div>"
      ],
      "text/plain": [
       "   age     sex    bmi  children smoker     region     charges\n",
       "0   19  female  27.90         0    yes  southwest  16884.9240\n",
       "1   18    male  33.77         1     no  southeast   1725.5523"
      ]
     },
     "execution_count": 82,
     "metadata": {},
     "output_type": "execute_result"
    }
   ],
   "source": [
    "#check the data loaded\n",
    "hypo_df.head(2)"
   ]
  },
  {
   "cell_type": "code",
   "execution_count": 83,
   "id": "c3454edf",
   "metadata": {},
   "outputs": [
    {
     "name": "stdout",
     "output_type": "stream",
     "text": [
      "<class 'pandas.core.frame.DataFrame'>\n",
      "RangeIndex: 1338 entries, 0 to 1337\n",
      "Data columns (total 7 columns):\n",
      " #   Column    Non-Null Count  Dtype  \n",
      "---  ------    --------------  -----  \n",
      " 0   age       1338 non-null   int64  \n",
      " 1   sex       1338 non-null   object \n",
      " 2   bmi       1338 non-null   float64\n",
      " 3   children  1338 non-null   int64  \n",
      " 4   smoker    1338 non-null   object \n",
      " 5   region    1338 non-null   object \n",
      " 6   charges   1338 non-null   float64\n",
      "dtypes: float64(2), int64(2), object(3)\n",
      "memory usage: 73.3+ KB\n"
     ]
    }
   ],
   "source": [
    "# check columns\n",
    "hypo_df.info()"
   ]
  },
  {
   "cell_type": "markdown",
   "id": "d88a78b1",
   "metadata": {},
   "source": [
    "# Project descriptions\n",
    "- Q1. Do smokers have higher insurance charges than non-smokers?\n",
    "- Q2. Are men more likely to smoke than women?\n",
    "- Q3. Do different regions have different charges, on average?"
   ]
  },
  {
   "cell_type": "markdown",
   "id": "8fa226b1",
   "metadata": {},
   "source": [
    "### Five Steps\n",
    "- State your Null Hypothesis and Alternative Hypothesis\n",
    "- Select the correct test according to the data type and number of samples\n",
    "- Test the assumptions of your selected test.\n",
    "- Execute the selected test, or the alternative test (if you do not meet the assumptions)\n",
    "- Interpret your p-value and reject or fail to reject your null hypothesis \n",
    "- Show a supporting visualization that helps display the result"
   ]
  },
  {
   "cell_type": "markdown",
   "id": "f577b7ce",
   "metadata": {},
   "source": [
    "# First question"
   ]
  },
  {
   "cell_type": "markdown",
   "id": "6c29b9b9",
   "metadata": {},
   "source": [
    "### Hypothesis\n",
    "- Null: Smokers and Non-Smokers have the same insurance\n",
    "- Alternate: Smokers and non-smokers have different insurance rates,"
   ]
  },
  {
   "cell_type": "markdown",
   "id": "a0a2bf0f",
   "metadata": {},
   "source": [
    "### Test type\n",
    "- T-test"
   ]
  },
  {
   "cell_type": "code",
   "execution_count": 84,
   "id": "a0f77620",
   "metadata": {},
   "outputs": [
    {
     "data": {
      "text/plain": [
       "no     1064\n",
       "yes     274\n",
       "Name: smoker, dtype: int64"
      ]
     },
     "execution_count": 84,
     "metadata": {},
     "output_type": "execute_result"
    }
   ],
   "source": [
    "# see how many smokers\n",
    "hypo_df['smoker'].value_counts()"
   ]
  },
  {
   "cell_type": "code",
   "execution_count": 85,
   "id": "7dae6754",
   "metadata": {},
   "outputs": [],
   "source": [
    "# split the data into two groups\n",
    "# Filtering out those with\n",
    "smoker_df = hypo_df.loc[hypo_df['smoker']== 'yes'].copy()\n",
    "no_smoker_df = hypo_df.loc[hypo_df['smoker']== 'no'].copy()"
   ]
  },
  {
   "cell_type": "code",
   "execution_count": 86,
   "id": "e2348ba4",
   "metadata": {},
   "outputs": [
    {
     "name": "stdout",
     "output_type": "stream",
     "text": [
      "<class 'pandas.core.frame.DataFrame'>\n",
      "Int64Index: 274 entries, 0 to 1337\n",
      "Data columns (total 7 columns):\n",
      " #   Column    Non-Null Count  Dtype  \n",
      "---  ------    --------------  -----  \n",
      " 0   age       274 non-null    int64  \n",
      " 1   sex       274 non-null    object \n",
      " 2   bmi       274 non-null    float64\n",
      " 3   children  274 non-null    int64  \n",
      " 4   smoker    274 non-null    object \n",
      " 5   region    274 non-null    object \n",
      " 6   charges   274 non-null    float64\n",
      "dtypes: float64(2), int64(2), object(3)\n",
      "memory usage: 17.1+ KB\n"
     ]
    }
   ],
   "source": [
    "smoker_df.info()"
   ]
  },
  {
   "cell_type": "code",
   "execution_count": 87,
   "id": "90bfa476",
   "metadata": {},
   "outputs": [
    {
     "data": {
      "text/plain": [
       "yes    274\n",
       "Name: smoker, dtype: int64"
      ]
     },
     "execution_count": 87,
     "metadata": {},
     "output_type": "execute_result"
    }
   ],
   "source": [
    "smoker_df.smoker.value_counts()"
   ]
  },
  {
   "cell_type": "code",
   "execution_count": 88,
   "id": "6c634998",
   "metadata": {},
   "outputs": [],
   "source": [
    "smoker_insure = smoker_df['charges']\n",
    "no_smoker_insure = no_smoker_df['charges']"
   ]
  },
  {
   "cell_type": "code",
   "execution_count": 99,
   "id": "3081e727",
   "metadata": {},
   "outputs": [],
   "source": [
    "smoker = hypo_df.loc[ hypo_df['smoker'] == 'yes'].copy()\n",
    "no_smoker = hypo_df.loc[ hypo_df['smoker'] == 'no'].copy()\n"
   ]
  },
  {
   "cell_type": "markdown",
   "id": "1ce6a84a",
   "metadata": {},
   "source": [
    "### Check Assumptions for independent T-test\n",
    "- outliers\n",
    "- normality ( discuss sample size > 15)\n",
    "- equal variance\n"
   ]
  },
  {
   "cell_type": "code",
   "execution_count": 104,
   "id": "0584408b",
   "metadata": {},
   "outputs": [
    {
     "data": {
      "text/plain": [
       "0.9963704746277452"
      ]
     },
     "execution_count": 104,
     "metadata": {},
     "output_type": "execute_result"
    }
   ],
   "source": [
    "## to get the probability of 1121 in charges \n",
    "1-stats.norm.cdf(1121, loc=np.mean(data), scale= np.std(data))"
   ]
  },
  {
   "cell_type": "code",
   "execution_count": 91,
   "id": "f6b8a698",
   "metadata": {},
   "outputs": [],
   "source": [
    "# check for outliers"
   ]
  },
  {
   "cell_type": "code",
   "execution_count": 92,
   "id": "cf5e715f",
   "metadata": {},
   "outputs": [
    {
     "data": {
      "text/plain": [
       "0"
      ]
     },
     "execution_count": 92,
     "metadata": {},
     "output_type": "execute_result"
    }
   ],
   "source": [
    "# Check for outliers in weight for strength group\n",
    "zscores= stats.zscore(smoker_insure)\n",
    "outliers = abs(zscores)>3\n",
    "np.sum(outliers)"
   ]
  },
  {
   "cell_type": "markdown",
   "id": "bedb042a",
   "metadata": {},
   "source": [
    "- There are no outliers in smokers. "
   ]
  },
  {
   "cell_type": "code",
   "execution_count": 93,
   "id": "eeb7ec39",
   "metadata": {},
   "outputs": [
    {
     "data": {
      "text/plain": [
       "24"
      ]
     },
     "execution_count": 93,
     "metadata": {},
     "output_type": "execute_result"
    }
   ],
   "source": [
    "# check for outliers in no smoker group\n",
    "zscores= stats.zscore(no_smoker_insure)\n",
    "outliers = abs(zscores)>3\n",
    "np.sum(outliers)"
   ]
  },
  {
   "cell_type": "markdown",
   "id": "3d598bb2",
   "metadata": {},
   "source": [
    "- There are 24 outliers in no smoker group. "
   ]
  },
  {
   "cell_type": "code",
   "execution_count": 94,
   "id": "6af6b6a3",
   "metadata": {},
   "outputs": [],
   "source": [
    "# remove outlier for no smoker group\n",
    "no_smoker_insure = no_smoker_insure[(np.abs(stats.zscore(no_smoker_insure)) < 3)]"
   ]
  },
  {
   "cell_type": "code",
   "execution_count": 15,
   "id": "f902e582",
   "metadata": {},
   "outputs": [
    {
     "data": {
      "text/plain": [
       "0"
      ]
     },
     "execution_count": 15,
     "metadata": {},
     "output_type": "execute_result"
    }
   ],
   "source": [
    "# check for outliers in no smoker group\n",
    "zscores= stats.zscore(no_smoker_insure)\n",
    "outliers = abs(zscores)>3\n",
    "np.sum(outliers)"
   ]
  },
  {
   "cell_type": "markdown",
   "id": "0ed215f3",
   "metadata": {},
   "source": [
    "- The sample size is > 15. This means that there is no need to test for normality or adjust testing. "
   ]
  },
  {
   "cell_type": "code",
   "execution_count": 95,
   "id": "f8f6ab38",
   "metadata": {},
   "outputs": [
    {
     "data": {
      "text/plain": [
       "NormaltestResult(statistic=61.03941356533816, pvalue=5.564930630036463e-14)"
      ]
     },
     "execution_count": 95,
     "metadata": {},
     "output_type": "execute_result"
    }
   ],
   "source": [
    "# test the smoker group for normality\n",
    "result_smoker_insure = stats.normaltest(smoker_insure)\n",
    "result_smoker_insure"
   ]
  },
  {
   "cell_type": "code",
   "execution_count": 96,
   "id": "111ff3be",
   "metadata": {},
   "outputs": [
    {
     "data": {
      "text/plain": [
       "NormaltestResult(statistic=163.80367047789198, pvalue=2.6945416315543976e-36)"
      ]
     },
     "execution_count": 96,
     "metadata": {},
     "output_type": "execute_result"
    }
   ],
   "source": [
    "# test the no smoker group for normality\n",
    "result_no_smoker_insure = stats.normaltest(no_smoker_insure)\n",
    "result_no_smoker_insure"
   ]
  },
  {
   "cell_type": "markdown",
   "id": "b19d5e41",
   "metadata": {},
   "source": [
    "-  p-values for both group are well below 0.05 which means our data is NOT normally distributed. \n",
    "- However sample size is large enough to proceed."
   ]
  },
  {
   "cell_type": "code",
   "execution_count": 97,
   "id": "ab130284",
   "metadata": {},
   "outputs": [
    {
     "data": {
      "text/plain": [
       "LeveneResult(statistic=520.7468821724297, pvalue=2.4247238784347824e-97)"
      ]
     },
     "execution_count": 97,
     "metadata": {},
     "output_type": "execute_result"
    }
   ],
   "source": [
    "# Test for equal variance\n",
    "result = stats.levene(smoker_insure, no_smoker_insure)\n",
    "result"
   ]
  },
  {
   "cell_type": "markdown",
   "id": "6ba13b11",
   "metadata": {},
   "source": [
    "- Need to set equal variance = \"False\""
   ]
  },
  {
   "cell_type": "markdown",
   "id": "3ec44233",
   "metadata": {},
   "source": [
    "### Statistical Testing"
   ]
  },
  {
   "cell_type": "code",
   "execution_count": 98,
   "id": "f0b20ebf",
   "metadata": {
    "scrolled": true
   },
   "outputs": [
    {
     "data": {
      "text/plain": [
       "Ttest_indResult(statistic=33.732305987092516, pvalue=2.575322662587431e-104)"
      ]
     },
     "execution_count": 98,
     "metadata": {},
     "output_type": "execute_result"
    }
   ],
   "source": [
    "# Independent t-test with equal_var set to False\n",
    "result = stats.ttest_ind(smoker_insure, no_smoker_insure, equal_var = False)\n",
    "result"
   ]
  },
  {
   "cell_type": "markdown",
   "id": "b409d79f",
   "metadata": {},
   "source": [
    "### Interpret Test"
   ]
  },
  {
   "cell_type": "markdown",
   "id": "da23b959",
   "metadata": {},
   "source": [
    "The p value < alpha (0.05), so the null hypothesis is rejected.Based on this dataset, the alternalte hypothesis is supported-- Smoker and non-smokers have different insurance charges. "
   ]
  },
  {
   "cell_type": "markdown",
   "id": "f57da114",
   "metadata": {},
   "source": [
    "### Preliminary visual"
   ]
  },
  {
   "cell_type": "code",
   "execution_count": 61,
   "id": "44fcbcf1",
   "metadata": {},
   "outputs": [
    {
     "data": {
      "image/png": "[encoded data removed]",
      "text/plain": [
       "<Figure size 640x480 with 1 Axes>"
      ]
     },
     "metadata": {},
     "output_type": "display_data"
    }
   ],
   "source": [
    "sns.barplot(data=hypo_df, x='smoker', y='charges').set(title='Smoker versus Charges');\n"
   ]
  },
  {
   "cell_type": "markdown",
   "id": "8183360d",
   "metadata": {},
   "source": [
    "# Second Question"
   ]
  },
  {
   "cell_type": "markdown",
   "id": "58adf27f",
   "metadata": {},
   "source": [
    "### Overview"
   ]
  },
  {
   "cell_type": "markdown",
   "id": "f895f27a",
   "metadata": {},
   "source": [
    "### Hypothesis\n",
    "- Null: Men and Women smoke at the same rate or have the same smoking habits.\n",
    "- Alternate: Men and women have different smoking habits rates. "
   ]
  },
  {
   "cell_type": "markdown",
   "id": "9353abc0",
   "metadata": {},
   "source": [
    "### Test type\n",
    "- Chi-squared"
   ]
  },
  {
   "cell_type": "markdown",
   "id": "07e7788d",
   "metadata": {},
   "source": [
    "### Statistical Testing"
   ]
  },
  {
   "cell_type": "code",
   "execution_count": 63,
   "id": "4f50f40d",
   "metadata": {},
   "outputs": [
    {
     "name": "stdout",
     "output_type": "stream",
     "text": [
      "<class 'pandas.core.frame.DataFrame'>\n",
      "RangeIndex: 1338 entries, 0 to 1337\n",
      "Data columns (total 7 columns):\n",
      " #   Column    Non-Null Count  Dtype  \n",
      "---  ------    --------------  -----  \n",
      " 0   age       1338 non-null   int64  \n",
      " 1   sex       1338 non-null   object \n",
      " 2   bmi       1338 non-null   float64\n",
      " 3   children  1338 non-null   int64  \n",
      " 4   smoker    1338 non-null   object \n",
      " 5   region    1338 non-null   object \n",
      " 6   charges   1338 non-null   float64\n",
      "dtypes: float64(2), int64(2), object(3)\n",
      "memory usage: 73.3+ KB\n"
     ]
    }
   ],
   "source": [
    "hypo_df.info()"
   ]
  },
  {
   "cell_type": "code",
   "execution_count": 64,
   "id": "01705f3e",
   "metadata": {},
   "outputs": [
    {
     "data": {
      "text/plain": [
       "male      676\n",
       "female    662\n",
       "Name: sex, dtype: int64"
      ]
     },
     "execution_count": 64,
     "metadata": {},
     "output_type": "execute_result"
    }
   ],
   "source": [
    "# see how many men\n",
    "hypo_df['sex'].value_counts()"
   ]
  },
  {
   "cell_type": "code",
   "execution_count": 66,
   "id": "0ffc8e11",
   "metadata": {
    "scrolled": true
   },
   "outputs": [
    {
     "data": {
      "text/html": [
       "<div>\n",
       "<style scoped>\n",
       "    .dataframe tbody tr th:only-of-type {\n",
       "        vertical-align: middle;\n",
       "    }\n",
       "\n",
       "    .dataframe tbody tr th {\n",
       "        vertical-align: top;\n",
       "    }\n",
       "\n",
       "    .dataframe thead th {\n",
       "        text-align: right;\n",
       "    }\n",
       "</style>\n",
       "<table border=\"1\" class=\"dataframe\">\n",
       "  <thead>\n",
       "    <tr style=\"text-align: right;\">\n",
       "      <th>smoker</th>\n",
       "      <th>no</th>\n",
       "      <th>yes</th>\n",
       "    </tr>\n",
       "    <tr>\n",
       "      <th>sex</th>\n",
       "      <th></th>\n",
       "      <th></th>\n",
       "    </tr>\n",
       "  </thead>\n",
       "  <tbody>\n",
       "    <tr>\n",
       "      <th>female</th>\n",
       "      <td>547</td>\n",
       "      <td>115</td>\n",
       "    </tr>\n",
       "    <tr>\n",
       "      <th>male</th>\n",
       "      <td>517</td>\n",
       "      <td>159</td>\n",
       "    </tr>\n",
       "  </tbody>\n",
       "</table>\n",
       "</div>"
      ],
      "text/plain": [
       "smoker   no  yes\n",
       "sex             \n",
       "female  547  115\n",
       "male    517  159"
      ]
     },
     "execution_count": 66,
     "metadata": {},
     "output_type": "execute_result"
    }
   ],
   "source": [
    "# calculate the contingency table with pd.cross-tab\n",
    "table = pd.crosstab(hypo_df['sex'], hypo_df['smoker'])\n",
    "table"
   ]
  },
  {
   "cell_type": "code",
   "execution_count": 67,
   "id": "adeb5d8a",
   "metadata": {},
   "outputs": [],
   "source": [
    "# Run the Test and Save the Output\n",
    "result = stats.chi2_contingency(table)\n",
    "chi2, p, deg_free, expected_vals = result #this labels the results"
   ]
  },
  {
   "cell_type": "code",
   "execution_count": 68,
   "id": "08f5191c",
   "metadata": {
    "scrolled": true
   },
   "outputs": [
    {
     "name": "stdout",
     "output_type": "stream",
     "text": [
      "0.006548143503580696\n"
     ]
    },
    {
     "data": {
      "text/plain": [
       "True"
      ]
     },
     "execution_count": 68,
     "metadata": {},
     "output_type": "execute_result"
    }
   ],
   "source": [
    "# What was our p-value?\n",
    "print(p)\n",
    "p<.05\n",
    "\n"
   ]
  },
  {
   "cell_type": "markdown",
   "id": "7b94e98a",
   "metadata": {},
   "source": [
    "### Intepret Testing"
   ]
  },
  {
   "cell_type": "markdown",
   "id": "bde70aa5",
   "metadata": {},
   "source": [
    "- Since  p < .05, I can  reject the null hypothesis that smoking habits are the same between sexes.  From this data, there is evidence of a relationship between smoking habits and biological sex. "
   ]
  },
  {
   "cell_type": "markdown",
   "id": "07ca0a81",
   "metadata": {},
   "source": [
    "### Preliminary Visual"
   ]
  },
  {
   "cell_type": "code",
   "execution_count": 69,
   "id": "6189974f",
   "metadata": {},
   "outputs": [
    {
     "data": {
      "image/png": "[encoded data removed]",
      "text/plain": [
       "<Figure size 640x480 with 1 Axes>"
      ]
     },
     "metadata": {},
     "output_type": "display_data"
    }
   ],
   "source": [
    "#visualize the data\n",
    "ax = sns.countplot(data=hypo_df, x='sex',hue='smoker',)\n",
    "ax.set_title(\"Smoking Habit by Sex\");"
   ]
  },
  {
   "cell_type": "markdown",
   "id": "358c05bc",
   "metadata": {},
   "source": [
    "# Third question"
   ]
  },
  {
   "cell_type": "markdown",
   "id": "383f2c6a",
   "metadata": {},
   "source": [
    "## Overview"
   ]
  },
  {
   "cell_type": "markdown",
   "id": "7b0e6ef1",
   "metadata": {},
   "source": [
    "- Do different regions have different charges?"
   ]
  },
  {
   "cell_type": "markdown",
   "id": "e3d77063",
   "metadata": {},
   "source": [
    "- Null hypothesis: All regions have the same charges\n",
    "- Alternate: There are different charges in different regions. "
   ]
  },
  {
   "cell_type": "markdown",
   "id": "af827947",
   "metadata": {},
   "source": [
    "## Test type\n",
    "- ANOVA"
   ]
  },
  {
   "cell_type": "code",
   "execution_count": 111,
   "id": "90324c92",
   "metadata": {},
   "outputs": [
    {
     "name": "stdout",
     "output_type": "stream",
     "text": [
      "<class 'pandas.core.frame.DataFrame'>\n",
      "RangeIndex: 1338 entries, 0 to 1337\n",
      "Data columns (total 7 columns):\n",
      " #   Column    Non-Null Count  Dtype  \n",
      "---  ------    --------------  -----  \n",
      " 0   age       1338 non-null   int64  \n",
      " 1   sex       1338 non-null   object \n",
      " 2   bmi       1338 non-null   float64\n",
      " 3   children  1338 non-null   int64  \n",
      " 4   smoker    1338 non-null   object \n",
      " 5   region    1338 non-null   object \n",
      " 6   charges   1338 non-null   float64\n",
      "dtypes: float64(2), int64(2), object(3)\n",
      "memory usage: 73.3+ KB\n"
     ]
    }
   ],
   "source": [
    "hypo_df.info()"
   ]
  },
  {
   "cell_type": "code",
   "execution_count": 72,
   "id": "cd1ee99d",
   "metadata": {},
   "outputs": [
    {
     "data": {
      "text/plain": [
       "dict_keys(['southwest', 'southeast', 'northwest', 'northeast'])"
      ]
     },
     "execution_count": 72,
     "metadata": {},
     "output_type": "execute_result"
    }
   ],
   "source": [
    "## Create groups dictionary. \n",
    "groups = {}\n",
    "## Loop through all unique categories\n",
    "for i in hypo_df['region'].unique():\n",
    "    ## Get series for group and rename\n",
    "    data = hypo_df.loc[hypo_df['region']==i,'charges'].copy()\n",
    "    \n",
    "    # save into the dictionary\n",
    "    groups[i] = data\n",
    "groups.keys()"
   ]
  },
  {
   "cell_type": "markdown",
   "id": "2f7eaef3",
   "metadata": {},
   "source": [
    "## Check Assumptions for ANOVA\n",
    "- outliers\n",
    "- normality\n",
    "- equal variance"
   ]
  },
  {
   "cell_type": "code",
   "execution_count": 73,
   "id": "513c6532",
   "metadata": {},
   "outputs": [
    {
     "data": {
      "text/html": [
       "<div>\n",
       "<style scoped>\n",
       "    .dataframe tbody tr th:only-of-type {\n",
       "        vertical-align: middle;\n",
       "    }\n",
       "\n",
       "    .dataframe tbody tr th {\n",
       "        vertical-align: top;\n",
       "    }\n",
       "\n",
       "    .dataframe thead th {\n",
       "        text-align: right;\n",
       "    }\n",
       "</style>\n",
       "<table border=\"1\" class=\"dataframe\">\n",
       "  <thead>\n",
       "    <tr style=\"text-align: right;\">\n",
       "      <th></th>\n",
       "      <th>n</th>\n",
       "      <th>p</th>\n",
       "      <th>test stat</th>\n",
       "    </tr>\n",
       "  </thead>\n",
       "  <tbody>\n",
       "    <tr>\n",
       "      <th>southwest</th>\n",
       "      <td>325.0</td>\n",
       "      <td>6.125298e-23</td>\n",
       "      <td>102.294059</td>\n",
       "    </tr>\n",
       "    <tr>\n",
       "      <th>southeast</th>\n",
       "      <td>364.0</td>\n",
       "      <td>4.953297e-15</td>\n",
       "      <td>65.877446</td>\n",
       "    </tr>\n",
       "    <tr>\n",
       "      <th>northwest</th>\n",
       "      <td>325.0</td>\n",
       "      <td>5.184209e-24</td>\n",
       "      <td>107.232850</td>\n",
       "    </tr>\n",
       "    <tr>\n",
       "      <th>northeast</th>\n",
       "      <td>324.0</td>\n",
       "      <td>1.455431e-19</td>\n",
       "      <td>86.747629</td>\n",
       "    </tr>\n",
       "  </tbody>\n",
       "</table>\n",
       "</div>"
      ],
      "text/plain": [
       "               n             p   test stat\n",
       "southwest  325.0  6.125298e-23  102.294059\n",
       "southeast  364.0  4.953297e-15   65.877446\n",
       "northwest  325.0  5.184209e-24  107.232850\n",
       "northeast  324.0  1.455431e-19   86.747629"
      ]
     },
     "execution_count": 73,
     "metadata": {},
     "output_type": "execute_result"
    }
   ],
   "source": [
    "## Running normal test on each group and confirming there are >20 in each group\n",
    "norm_results = {}\n",
    "for i, data in groups.items():\n",
    "    stat, p = stats.normaltest(data)\n",
    "    ## save the p val, test statistic, and the size of the group\n",
    "    norm_results[i] = {'n': len(data),\n",
    "                             'p':p,\n",
    "                             'test stat':stat,}\n",
    "## convert to a dataframe\n",
    "norm_results_df = pd.DataFrame(norm_results).T\n",
    "norm_results_df"
   ]
  },
  {
   "cell_type": "code",
   "execution_count": 74,
   "id": "726740e1",
   "metadata": {},
   "outputs": [
    {
     "data": {
      "text/html": [
       "<div>\n",
       "<style scoped>\n",
       "    .dataframe tbody tr th:only-of-type {\n",
       "        vertical-align: middle;\n",
       "    }\n",
       "\n",
       "    .dataframe tbody tr th {\n",
       "        vertical-align: top;\n",
       "    }\n",
       "\n",
       "    .dataframe thead th {\n",
       "        text-align: right;\n",
       "    }\n",
       "</style>\n",
       "<table border=\"1\" class=\"dataframe\">\n",
       "  <thead>\n",
       "    <tr style=\"text-align: right;\">\n",
       "      <th></th>\n",
       "      <th>n</th>\n",
       "      <th>p</th>\n",
       "      <th>test stat</th>\n",
       "      <th>sig</th>\n",
       "    </tr>\n",
       "  </thead>\n",
       "  <tbody>\n",
       "    <tr>\n",
       "      <th>southwest</th>\n",
       "      <td>325.0</td>\n",
       "      <td>6.125298e-23</td>\n",
       "      <td>102.294059</td>\n",
       "      <td>True</td>\n",
       "    </tr>\n",
       "    <tr>\n",
       "      <th>southeast</th>\n",
       "      <td>364.0</td>\n",
       "      <td>4.953297e-15</td>\n",
       "      <td>65.877446</td>\n",
       "      <td>True</td>\n",
       "    </tr>\n",
       "    <tr>\n",
       "      <th>northwest</th>\n",
       "      <td>325.0</td>\n",
       "      <td>5.184209e-24</td>\n",
       "      <td>107.232850</td>\n",
       "      <td>True</td>\n",
       "    </tr>\n",
       "    <tr>\n",
       "      <th>northeast</th>\n",
       "      <td>324.0</td>\n",
       "      <td>1.455431e-19</td>\n",
       "      <td>86.747629</td>\n",
       "      <td>True</td>\n",
       "    </tr>\n",
       "  </tbody>\n",
       "</table>\n",
       "</div>"
      ],
      "text/plain": [
       "               n             p   test stat   sig\n",
       "southwest  325.0  6.125298e-23  102.294059  True\n",
       "southeast  364.0  4.953297e-15   65.877446  True\n",
       "northwest  325.0  5.184209e-24  107.232850  True\n",
       "northeast  324.0  1.455431e-19   86.747629  True"
      ]
     },
     "execution_count": 74,
     "metadata": {},
     "output_type": "execute_result"
    }
   ],
   "source": [
    "### checking sig with pandas \n",
    "norm_results_df['sig'] = norm_results_df['p'] < .05 \n",
    "norm_results_df"
   ]
  },
  {
   "cell_type": "markdown",
   "id": "076fe77f",
   "metadata": {},
   "source": [
    "### Check for Outliers"
   ]
  },
  {
   "cell_type": "code",
   "execution_count": 112,
   "id": "a843619a",
   "metadata": {},
   "outputs": [
    {
     "data": {
      "text/plain": [
       "southeast    364\n",
       "southwest    325\n",
       "northwest    325\n",
       "northeast    324\n",
       "Name: region, dtype: int64"
      ]
     },
     "execution_count": 112,
     "metadata": {},
     "output_type": "execute_result"
    }
   ],
   "source": [
    "hypo_df['region'].value_counts()"
   ]
  },
  {
   "cell_type": "markdown",
   "id": "b1989a94",
   "metadata": {},
   "source": [
    "- Because outliers were removed earlier, there is no need to remove them here."
   ]
  },
  {
   "cell_type": "code",
   "execution_count": 75,
   "id": "454638aa",
   "metadata": {},
   "outputs": [
    {
     "data": {
      "text/plain": [
       "LeveneResult(statistic=5.559966758410606, pvalue=0.0008610590250786703)"
      ]
     },
     "execution_count": 75,
     "metadata": {},
     "output_type": "execute_result"
    }
   ],
   "source": [
    "# check for equal variance\n",
    "# with the * operator \n",
    "stats.levene(*groups.values())"
   ]
  },
  {
   "cell_type": "markdown",
   "id": "7eec162e",
   "metadata": {},
   "source": [
    "## Interpret Testing"
   ]
  },
  {
   "cell_type": "code",
   "execution_count": 122,
   "id": "ddadf459",
   "metadata": {},
   "outputs": [
    {
     "data": {
      "text/plain": [
       "F_onewayResult(statistic=2.96962669358912, pvalue=0.0308933560705201)"
      ]
     },
     "execution_count": 122,
     "metadata": {},
     "output_type": "execute_result"
    }
   ],
   "source": [
    "# run the test with a change because it failed equal variance\n",
    "# Independent t-test with equal_var set to False\n",
    "# perform the correct hypothesis test\n",
    "# note again the use of the * operator for convenience\n",
    "result = stats.f_oneway( *groups.values())\n",
    "result"
   ]
  },
  {
   "cell_type": "markdown",
   "id": "baed40ff",
   "metadata": {},
   "source": [
    "- This is a significant p value and can reject the null hypothesis. However it is not known which groups so further testing with Tukey's is needed."
   ]
  },
  {
   "cell_type": "code",
   "execution_count": 76,
   "id": "7fee95be",
   "metadata": {},
   "outputs": [],
   "source": [
    "from statsmodels.stats.multicomp import pairwise_tukeyhsd\n",
    "## save the values as kg_lost and the labels to the Diet\n",
    "values = hypo_df['charges']\n",
    "labels = hypo_df['region']"
   ]
  },
  {
   "cell_type": "code",
   "execution_count": 77,
   "id": "090e3122",
   "metadata": {},
   "outputs": [
    {
     "data": {
      "text/html": [
       "<table class=\"simpletable\">\n",
       "<caption>Multiple Comparison of Means - Tukey HSD, FWER=0.05</caption>\n",
       "<tr>\n",
       "   <th>group1</th>    <th>group2</th>    <th>meandiff</th>   <th>p-adj</th>    <th>lower</th>     <th>upper</th>   <th>reject</th>\n",
       "</tr>\n",
       "<tr>\n",
       "  <td>northeast</td> <td>northwest</td>  <td>-988.8091</td> <td>0.7245</td> <td>-3428.9343</td> <td>1451.3161</td>  <td>False</td>\n",
       "</tr>\n",
       "<tr>\n",
       "  <td>northeast</td> <td>southeast</td>  <td>1329.0269</td> <td>0.4745</td> <td>-1044.9417</td> <td>3702.9955</td>  <td>False</td>\n",
       "</tr>\n",
       "<tr>\n",
       "  <td>northeast</td> <td>southwest</td> <td>-1059.4471</td> <td>0.6792</td> <td>-3499.5723</td> <td>1380.6781</td>  <td>False</td>\n",
       "</tr>\n",
       "<tr>\n",
       "  <td>northwest</td> <td>southeast</td>  <td>2317.8361</td> <td>0.0583</td>  <td>-54.1994</td>  <td>4689.8716</td>  <td>False</td>\n",
       "</tr>\n",
       "<tr>\n",
       "  <td>northwest</td> <td>southwest</td>   <td>-70.638</td>  <td>0.9999</td> <td>-2508.8826</td> <td>2367.6066</td>  <td>False</td>\n",
       "</tr>\n",
       "<tr>\n",
       "  <td>southeast</td> <td>southwest</td> <td>-2388.4741</td> <td>0.0477</td> <td>-4760.5096</td> <td>-16.4386</td>   <td>True</td> \n",
       "</tr>\n",
       "</table>"
      ],
      "text/plain": [
       "<class 'statsmodels.iolib.table.SimpleTable'>"
      ]
     },
     "execution_count": 77,
     "metadata": {},
     "output_type": "execute_result"
    }
   ],
   "source": [
    "## perform tukey's multiple comparison test and display the summary\n",
    "tukeys_results = pairwise_tukeyhsd(values,labels)\n",
    "tukeys_results.summary()"
   ]
  },
  {
   "cell_type": "markdown",
   "id": "5aa16406",
   "metadata": {},
   "source": [
    "- There is a significant difference between southeast and southwest charges"
   ]
  },
  {
   "cell_type": "markdown",
   "id": "e1227b40",
   "metadata": {},
   "source": [
    "## Preliminary visual"
   ]
  },
  {
   "cell_type": "code",
   "execution_count": 106,
   "id": "d6f610b3",
   "metadata": {},
   "outputs": [
    {
     "data": {
      "image/png": "[encoded data removed]",
      "text/plain": [
       "<Figure size 640x480 with 1 Axes>"
      ]
     },
     "metadata": {},
     "output_type": "display_data"
    }
   ],
   "source": [
    "#visualize the data\n",
    "ax= sns.barplot(data=hypo_df, x='region',y='charges');\n",
    "ax.set_title(\"Charges by Region\");"
   ]
  },
  {
   "cell_type": "markdown",
   "id": "f21404c9",
   "metadata": {},
   "source": [
    "## Moved Code from first question as per suggested during code review"
   ]
  },
  {
   "cell_type": "code",
   "execution_count": 89,
   "id": "f32a7884",
   "metadata": {
    "scrolled": true
   },
   "outputs": [
    {
     "data": {
      "text/plain": [
       "count     1338.000000\n",
       "mean     13270.422265\n",
       "std      12110.011237\n",
       "min       1121.873900\n",
       "25%       4740.287150\n",
       "50%       9382.033000\n",
       "75%      16639.912515\n",
       "max      63770.428010\n",
       "Name: charges, dtype: float64"
      ]
     },
     "execution_count": 89,
     "metadata": {},
     "output_type": "execute_result"
    }
   ],
   "source": [
    "hypo_df['charges'].describe()"
   ]
  },
  {
   "cell_type": "code",
   "execution_count": 100,
   "id": "2d1dee7b",
   "metadata": {},
   "outputs": [],
   "source": [
    "data = smoker['charges']\n",
    "mean = np.mean(data)\n",
    "std = np.std(data)\n",
    "min = np.min(data)\n",
    "max = np.max(data)"
   ]
  },
  {
   "cell_type": "code",
   "execution_count": 101,
   "id": "d33713e0",
   "metadata": {},
   "outputs": [],
   "source": [
    "low_end = 1121\n",
    "high_end = max"
   ]
  },
  {
   "cell_type": "code",
   "execution_count": 102,
   "id": "3e2dba72",
   "metadata": {},
   "outputs": [],
   "source": [
    "x_range = np.linspace(min, max, 1000)"
   ]
  },
  {
   "cell_type": "code",
   "execution_count": 103,
   "id": "7883ebcf",
   "metadata": {},
   "outputs": [
    {
     "data": {
      "image/png": "[encoded data removed]",
      "text/plain": [
       "<Figure size 800x200 with 1 Axes>"
      ]
     },
     "metadata": {},
     "output_type": "display_data"
    }
   ],
   "source": [
    "#visualize data?\n",
    "cdf = stats.norm.cdf(x_range, loc=mean, scale=std)\n",
    "fig, ax = plt.subplots(figsize=(8,2))\n",
    "sns.histplot(x=data, stat='density', cumulative = True)\n",
    "ax.plot(x_range,cdf)\n",
    "ax.axvline(low_end, color= 'black')\n",
    "ax.axvline(high_end, color ='black')\n",
    "ax.axvspan(low_end, high_end, color ='yellow', zorder = 0)\n",
    "ax.set_title('Range of Interest');"
   ]
  },
  {
   "cell_type": "markdown",
   "id": "f3acb464",
   "metadata": {},
   "source": [
    "- P-value = There is a probability of .9963 (or a 99% chance) that a smoker  would have a charges more than 1121 or the minimum."
   ]
  }
 ],
 "metadata": {
  "kernelspec": {
   "display_name": "Python (dojo-env)",
   "language": "python",
   "name": "dojo-env"
  },
  "language_info": {
   "codemirror_mode": {
    "name": "ipython",
    "version": 3
   },
   "file_extension": ".py",
   "mimetype": "text/x-python",
   "name": "python",
   "nbconvert_exporter": "python",
   "pygments_lexer": "ipython3",
   "version": "3.9.15"
  },
  "toc": {
   "base_numbering": 1,
   "nav_menu": {},
   "number_sections": true,
   "sideBar": true,
   "skip_h1_title": false,
   "title_cell": "Table of Contents",
   "title_sidebar": "Contents",
   "toc_cell": false,
   "toc_position": {
    "height": "calc(100% - 180px)",
    "left": "10px",
    "top": "150px",
    "width": "307.2px"
   },
   "toc_section_display": true,
   "toc_window_display": true
  }
 },
 "nbformat": 4,
 "nbformat_minor": 5
}
